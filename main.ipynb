{
 "cells": [
  {
   "cell_type": "code",
   "execution_count": 1,
   "id": "14926842",
   "metadata": {},
   "outputs": [],
   "source": [
    "# import Oracle_Assignment_2 as oa\n",
    "# import requests\n",
    "import numpy as np\n",
    "import matplotlib.pyplot as plt\n",
    "import torch\n",
    "import torch.nn as nn\n",
    "import torch.nn.functional as F\n",
    "import torch.optim as optim\n",
    "from sklearn.metrics import confusion_matrix, accuracy_score, precision_score, recall_score, f1_score, classification_report\n",
    "# oa.q2_get_mnist_jpg_subset(23634)\n"
   ]
  },
  {
   "cell_type": "code",
   "execution_count": 2,
   "id": "a0c3da37",
   "metadata": {},
   "outputs": [],
   "source": [
    "\n",
    "from torchvision import datasets, transforms\n",
    "from torch.utils.data import DataLoader, TensorDataset\n",
    "\n"
   ]
  },
  {
   "cell_type": "code",
   "execution_count": 3,
   "id": "ee2c6100",
   "metadata": {},
   "outputs": [],
   "source": [
    "\n",
    "transform = transforms.Compose([\n",
    "    transforms.Grayscale(num_output_channels=1),  # Ensure grayscale\n",
    "    transforms.ToTensor(),  # Convert to tensor\n",
    "])\n"
   ]
  },
  {
   "cell_type": "code",
   "execution_count": 4,
   "id": "d1b085d3",
   "metadata": {},
   "outputs": [],
   "source": [
    "\n",
    "\n",
    "\n",
    "dataset = datasets.ImageFolder(root=\"q2_data\", transform=transform)\n",
    "\n",
    "# Split dataset into training and test sets (80-20 split)\n",
    "train_size = int(0.8 * len(dataset))\n",
    "test_size = len(dataset) - train_size\n",
    "train_dataset, test_dataset = torch.utils.data.random_split(dataset, [train_size, test_size])\n",
    "\n",
    "# Create DataLoaders\n",
    "train_loader = DataLoader(train_dataset, batch_size=32, shuffle=True)\n",
    "test_loader = DataLoader(test_dataset, batch_size=32, shuffle=False)\n",
    "\n"
   ]
  },
  {
   "cell_type": "code",
   "execution_count": 5,
   "id": "6615895a",
   "metadata": {},
   "outputs": [],
   "source": [
    "\n",
    "\n",
    "def evaluate(model, train_loader, test_loader, device):\n",
    "    model.eval()\n",
    "    correct, total = 0, 0\n",
    "    with torch.no_grad():\n",
    "        for images, labels in test_loader:\n",
    "            images, labels = images.to(device), labels.to(device)\n",
    "            outputs = model(images)\n",
    "            _, predicted = torch.max(outputs, 1)\n",
    "            total += labels.size(0)\n",
    "            correct += (predicted == labels).sum().item()\n",
    "    print(f\"Test Accuracy: {100 * correct / total:.2f}%\")\n",
    "    correct, total = 0, 0\n",
    "    with torch.no_grad() :\n",
    "        for images, labels in train_loader:\n",
    "            images, labels = images.to(device), labels.to(device)\n",
    "            outputs = model(images)\n",
    "            _, predicted = torch.max(outputs, 1)\n",
    "            total += labels.size(0)\n",
    "            correct += (predicted == labels).sum().item()\n",
    "        print(f\"Train Accuracy: {100 * correct / total:.2f}%\")\n",
    "\n",
    "\n",
    "def train(model, train_loader, criterion, optimizer, device, epochs, test_loader):\n",
    "    model.train()\n",
    "    for epoch in range(epochs):\n",
    "        total_loss = 0\n",
    "        for images, labels in train_loader:\n",
    "            images, labels = images.to(device), labels.to(device)\n",
    "            \n",
    "            optimizer.zero_grad()  # Zero the gradients\n",
    "            outputs = model(images)\n",
    "            loss = criterion(outputs, labels)\n",
    "            loss.backward()\n",
    "            optimizer.step()  # Update weights using SGD with momentum\n",
    "\n",
    "            total_loss += loss.item()\n",
    "\n",
    "        # evaluate(model, train_loader, test_loader, device)\n",
    "        print(f\"Epoch [{epoch+1}/{epochs}], Loss: {total_loss/len(train_loader):.4f}\")\n",
    "\n",
    "\n",
    "def metricslearn(model, train_loader, test_loader, device):\n",
    "    model.eval()\n",
    "    y_pred = []\n",
    "    y_true = []\n",
    "    \n",
    "    with torch.no_grad():\n",
    "        for images, labels in test_loader:\n",
    "            images, labels = images.to(device), labels.to(device)\n",
    "            outputs = model(images)\n",
    "            _, predicted = torch.max(outputs, 1)\n",
    "            y_pred.extend(predicted.tolist())\n",
    "            y_true.extend(labels.tolist())\n",
    "    \n",
    "    print(\"Classification Report:\")\n",
    "    print(classification_report(y_true, y_pred, digits=4))\n",
    "    print(\"Confusion Matrix:\")\n",
    "    print(confusion_matrix(y_true, y_pred))\n",
    "\n",
    "\n",
    "def dataloader_to_numpy(dataloader):\n",
    "    data_list = []\n",
    "    labels_list = []\n",
    "\n",
    "    for images, labels in dataloader:\n",
    "        images = images.numpy().reshape(images.shape[0], -1)\n",
    "        data_list.append(images)\n",
    "        labels_list.append(labels.numpy())\n",
    "\n",
    "    data_array = np.vstack(data_list)\n",
    "    labels_array = np.concatenate(labels_list)\n",
    "    return data_array, labels_array\n",
    "\n",
    "train_data, train_labels = dataloader_to_numpy(train_loader)\n",
    "test_data, test_labels = dataloader_to_numpy(test_loader)\n",
    "\n",
    "\n",
    "def pca(data, k) :\n",
    "    cov_matrix = np.cov(data.T)\n",
    "    eigenvalues, eigenvectors = np.linalg.eigh(cov_matrix)\n",
    "    idx = np.argsort(eigenvalues)[::-1]\n",
    "\n",
    "\n",
    "    eigenvectors = eigenvectors[:, idx]\n",
    "    eigenvalues = eigenvalues[idx]\n",
    "    eigenvecks = eigenvectors[:, :k]\n",
    "    new_data = np.dot(data, eigenvecks)\n",
    "    return new_data, eigenvecks\n",
    "\n",
    "\n"
   ]
  },
  {
   "cell_type": "code",
   "execution_count": 6,
   "id": "10463a23",
   "metadata": {},
   "outputs": [
    {
     "data": {
      "text/plain": [
       "<matplotlib.image.AxesImage at 0x7eb65a20fcb0>"
      ]
     },
     "execution_count": 6,
     "metadata": {},
     "output_type": "execute_result"
    },
    {
     "data": {
      "image/png": "[encoded data removed]",
      "text/plain": [
       "<Figure size 640x480 with 1 Axes>"
      ]
     },
     "metadata": {},
     "output_type": "display_data"
    }
   ],
   "source": [
    "\n",
    "\n",
    "mean = np.mean(train_data, axis=0)\n",
    "std = np.std(train_data, axis=0)\n",
    "train_data = (train_data - mean) / std\n",
    "test_data = (test_data - mean) / std\n",
    "k = 100\n",
    "train_data_pca, eigenvecks = pca(train_data, k)\n",
    "test_data_pca = np.dot(test_data, eigenvecks)\n",
    "\n",
    "\n",
    "\n",
    "# Convert PCA-transformed data to tensors\n",
    "train_data_pca_tensor = torch.tensor(train_data_pca, dtype=torch.float32)\n",
    "train_labels_tensor = torch.tensor(train_labels, dtype=torch.long)\n",
    "test_data_pca_tensor = torch.tensor(test_data_pca, dtype=torch.float32)\n",
    "test_labels_tensor = torch.tensor(test_labels, dtype=torch.long)\n",
    "\n",
    "# Create TensorDataset and DataLoader\n",
    "train_pca_dataset = TensorDataset(train_data_pca_tensor, train_labels_tensor)\n",
    "test_pca_dataset = TensorDataset(test_data_pca_tensor, test_labels_tensor)\n",
    "\n",
    "train_pca_loader = DataLoader(train_pca_dataset, batch_size=32, shuffle=True)\n",
    "test_pca_loader = DataLoader(test_pca_dataset, batch_size=32, shuffle=False)\n",
    "\n",
    "# Reconstruct a sample image\n",
    "sample = train_data_pca[10]\n",
    "reconstructed = np.dot(sample, eigenvecks.T)\n",
    "reconstructed = (reconstructed * std) + mean\n",
    "reconstructed = reconstructed.reshape(28, 28)\n",
    "plt.imshow(reconstructed, cmap=\"gray\")\n",
    "\n",
    " \n"
   ]
  },
  {
   "cell_type": "code",
   "execution_count": 9,
   "id": "f01f0d0a",
   "metadata": {},
   "outputs": [
    {
     "name": "stdout",
     "output_type": "stream",
     "text": [
      "checkpoint directory created: ./model\n",
      "saving model version 0.0\n"
     ]
    }
   ],
   "source": [
    "from kan import *\n",
    "# device = torch.device(\"cuda\" if torch.cuda.is_available() else \"cpu\")\n",
    "device = torch.device(\"cpu\")\n",
    "model = KAN(width=[100,10,20,10],grid =5 ,k=3,seed=42,device=device).to(device)\n",
    "\n"
   ]
  },
  {
   "cell_type": "code",
   "execution_count": 10,
   "id": "bd45a863",
   "metadata": {},
   "outputs": [
    {
     "name": "stdout",
     "output_type": "stream",
     "text": [
      "(tensor([-0.8410, -3.5703, -4.1523, -9.2323,  3.2586,  3.2736, -0.4720,  1.7042,\n",
      "        -5.1720, -6.2205, -5.2815, -0.6185,  0.1433, -1.6192, -2.3616, -0.0113,\n",
      "        -0.1836, -0.1510, -0.8277,  2.0887,  0.6677,  0.7742,  1.7195,  1.8318,\n",
      "        -0.7935, -0.6966,  2.6199,  3.5512,  1.0218,  2.7797,  1.0196, -1.7061,\n",
      "        -3.8021,  1.2898,  2.6860, -1.1304,  0.9435,  0.5946,  1.2168, -0.4166,\n",
      "         1.7943,  0.1758,  1.4968, -2.2573, -1.3422, -0.5738, -2.0050,  0.7454,\n",
      "        -1.3775, -1.1532, -2.3072,  1.7029, -1.8015, -3.2567, -0.4191,  1.2417,\n",
      "        -0.2546,  0.4208,  1.0112,  0.2721, -0.3679,  2.1983,  0.3614, -1.7663,\n",
      "        -0.9487, -1.9230, -0.6400, -1.1878,  1.4066,  0.3213, -0.4821,  0.3734,\n",
      "        -0.0194,  0.0687,  0.5277,  0.4679, -1.6277, -0.7312, -0.0867,  0.6921,\n",
      "        -1.9358, -0.0751, -1.3049, -1.0311,  0.2768,  1.3655, -0.3048,  2.4794,\n",
      "        -0.8698,  1.3364, -0.2179, -1.1997,  0.8484, -0.6041,  1.1325, -0.1296,\n",
      "         0.1251,  1.7323, -0.4565, -0.0132]), tensor(6))\n",
      "Epoch [1/17], Loss: 1.4863\n",
      "Epoch [2/17], Loss: 0.6862\n",
      "Epoch [3/17], Loss: 0.5786\n",
      "Epoch [4/17], Loss: 0.5267\n",
      "Epoch [5/17], Loss: 0.4885\n",
      "Epoch [6/17], Loss: 0.4781\n",
      "Epoch [7/17], Loss: 0.4561\n",
      "Epoch [8/17], Loss: 0.4461\n",
      "Epoch [9/17], Loss: 0.4297\n",
      "Epoch [10/17], Loss: 0.4192\n",
      "Epoch [11/17], Loss: 0.4032\n",
      "Epoch [12/17], Loss: 0.4052\n",
      "Epoch [13/17], Loss: 0.4004\n",
      "Epoch [14/17], Loss: 0.3805\n",
      "Epoch [15/17], Loss: 0.3889\n",
      "Epoch [16/17], Loss: 0.3807\n",
      "Epoch [17/17], Loss: 0.3681\n",
      "Test Accuracy: 84.15%\n"
     ]
    }
   ],
   "source": [
    "\n",
    "len(train_pca_dataset)\n",
    "for i in train_pca_dataset:\n",
    "    print (i)\n",
    "    break\n",
    "\n",
    "\n",
    "# train(model,train_data_pca)\n",
    "criterion = nn.CrossEntropyLoss()\n",
    "optimizer = optim.SGD(model.parameters(), lr=0.01, momentum=0.9)\n",
    "train(model, train_pca_loader, criterion, optimizer, device, epochs=17, test_loader = test_pca_loader)\n",
    "\n",
    "\n",
    "\n",
    "model.eval()\n",
    "correct, total = 0, 0\n",
    "with torch.no_grad():\n",
    "    for images, labels in test_pca_loader:\n",
    "        images, labels = images.to(device), labels.to(device)\n",
    "        outputs = model(images)\n",
    "        _, predicted = torch.max(outputs, 1)\n",
    "        total += labels.size(0)\n",
    "        correct += (predicted == labels).sum().item()\n",
    "print(f\"Test Accuracy: {100 * correct / total:.2f}%\")\n",
    "\n",
    "\n"
   ]
  },
  {
   "cell_type": "code",
   "execution_count": 12,
   "id": "dc735a05",
   "metadata": {},
   "outputs": [
    {
     "name": "stdout",
     "output_type": "stream",
     "text": [
      "Test Accuracy: 84.15%\n",
      "Train Accuracy: 88.34%\n"
     ]
    }
   ],
   "source": [
    "model.eval()\n",
    "correct, total = 0, 0\n",
    "with torch.no_grad():\n",
    "    for images, labels in test_pca_loader:\n",
    "        images, labels = images.to(device), labels.to(device)\n",
    "        outputs = model(images)\n",
    "        _, predicted = torch.max(outputs, 1)\n",
    "        total += labels.size(0)\n",
    "        correct += (predicted == labels).sum().item()\n",
    "print(f\"Test Accuracy: {100 * correct / total:.2f}%\")\n",
    "correct, total = 0, 0\n",
    "with torch.no_grad() :\n",
    "    for images, labels in train_pca_loader:\n",
    "        images, labels = images.to(device), labels.to(device)\n",
    "        outputs = model(images)\n",
    "        _, predicted = torch.max(outputs, 1)\n",
    "        total += labels.size(0)\n",
    "        correct += (predicted == labels).sum().item()\n",
    "    print(f\"Train Accuracy: {100 * correct / total:.2f}%\")\n"
   ]
  },
  {
   "cell_type": "code",
   "execution_count": 11,
   "id": "1ccaa0f6",
   "metadata": {},
   "outputs": [
    {
     "ename": "TypeError",
     "evalue": "LBFGS.__init__() got an unexpected keyword argument 'momentum'",
     "output_type": "error",
     "traceback": [
      "\u001b[31m---------------------------------------------------------------------------\u001b[39m",
      "\u001b[31mTypeError\u001b[39m                                 Traceback (most recent call last)",
      "\u001b[36mCell\u001b[39m\u001b[36m \u001b[39m\u001b[32mIn[11]\u001b[39m\u001b[32m, line 25\u001b[39m\n\u001b[32m     23\u001b[39m modelMLPPCA = MLPPCA().to(\u001b[33m\"\u001b[39m\u001b[33mcpu\u001b[39m\u001b[33m\"\u001b[39m)\n\u001b[32m     24\u001b[39m criterion = nn.CrossEntropyLoss()\n\u001b[32m---> \u001b[39m\u001b[32m25\u001b[39m optimizer = \u001b[43moptim\u001b[49m\u001b[43m.\u001b[49m\u001b[43mLBFGS\u001b[49m\u001b[43m(\u001b[49m\u001b[43mmodelMLPPCA\u001b[49m\u001b[43m.\u001b[49m\u001b[43mparameters\u001b[49m\u001b[43m(\u001b[49m\u001b[43m)\u001b[49m\u001b[43m,\u001b[49m\u001b[43m \u001b[49m\u001b[43mlr\u001b[49m\u001b[43m=\u001b[49m\u001b[32;43m0.01\u001b[39;49m\u001b[43m,\u001b[49m\u001b[43m \u001b[49m\u001b[43mmomentum\u001b[49m\u001b[43m=\u001b[49m\u001b[32;43m0.9\u001b[39;49m\u001b[43m)\u001b[49m\n\u001b[32m     26\u001b[39m train(modelMLPPCA, train_pca_loader, criterion, optimizer, \u001b[33m\"\u001b[39m\u001b[33mcpu\u001b[39m\u001b[33m\"\u001b[39m, epochs=\u001b[32m17\u001b[39m, test_loader = test_pca_loader)\n\u001b[32m     27\u001b[39m metricslearn(modelMLPPCA, train_pca_loader, test_pca_loader, \u001b[33m\"\u001b[39m\u001b[33mcpu\u001b[39m\u001b[33m\"\u001b[39m)\n",
      "\u001b[31mTypeError\u001b[39m: LBFGS.__init__() got an unexpected keyword argument 'momentum'"
     ]
    }
   ],
   "source": [
    "\n",
    "\n",
    "\n",
    "class MLPPCA(nn.Module):\n",
    "    def __init__(self):\n",
    "        super(MLPPCA, self).__init__()\n",
    "        self.flatten = nn.Flatten()\n",
    "        self.linear_relu_stack = nn.Sequential(\n",
    "            nn.Linear(117, 512),\n",
    "            nn.ReLU(),\n",
    "            nn.Linear(512, 256),\n",
    "            nn.ReLU(),\n",
    "            nn.Linear(256, 128),\n",
    "            nn.ReLU(),\n",
    "            nn.Linear(128, 10),\n",
    "        )\n",
    "\n",
    "    def forward(self, x):\n",
    "        x = self.flatten(x)\n",
    "        logits = self.linear_relu_stack(x)\n",
    "        return logits\n",
    "    \n",
    "modelMLPPCA = MLPPCA()\n",
    "\n",
    "\n",
    "modelMLPPCA = MLPPCA().to(\"cpu\")\n",
    "criterion = nn.CrossEntropyLoss()\n",
    "optimizer = optim.LBFGS(modelMLPPCA.parameters(), lr=0.01, momentum=0.9)\n",
    "train(modelMLPPCA, train_pca_loader, criterion, optimizer, \"cpu\", epochs=17, test_loader = test_pca_loader)\n",
    "metricslearn(modelMLPPCA, train_pca_loader, test_pca_loader, \"cpu\")\n",
    " "
   ]
  }
 ],
 "metadata": {
  "kernelspec": {
   "display_name": ".venv",
   "language": "python",
   "name": "python3"
  },
  "language_info": {
   "codemirror_mode": {
    "name": "ipython",
    "version": 3
   },
   "file_extension": ".py",
   "mimetype": "text/x-python",
   "name": "python",
   "nbconvert_exporter": "python",
   "pygments_lexer": "ipython3",
   "version": "3.12.8"
  }
 },
 "nbformat": 4,
 "nbformat_minor": 5
}
